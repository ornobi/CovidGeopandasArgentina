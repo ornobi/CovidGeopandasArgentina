{
 "cells": [
  {
   "cell_type": "code",
   "execution_count": null,
   "metadata": {},
   "outputs": [],
   "source": [
    "import numpy as np\n",
    "import pandas as pd\n",
    "import matplotlib.pyplot as plt\n",
    "import geopandas as gpd\n",
    "import mapclassify as mp\n",
    "from shapely.geometry import Point, Polygon\n",
    "import datetime as dt"
   ]
  },
  {
   "cell_type": "markdown",
   "metadata": {},
   "source": [
    "### FUENTES:\n",
    "#### MAPAS:\n",
    "https://www.ign.gob.ar/NuestrasActividades/InformacionGeoespacial/CapasSIG\n",
    "#### BASE COVID:\n",
    "https://datos.gob.ar/dataset/salud-covid-19-casos-registrados-republica-argentina/archivo/salud_fd657d02-a33a-498b-a91b-2ef1a68b8d16"
   ]
  },
  {
   "cell_type": "code",
   "execution_count": null,
   "metadata": {},
   "outputs": [],
   "source": [
    "dptos=gpd.read_file(\"C:/Users/dani/Desktop/PROYECTOS/MAPAS/departamento/departamento.shp\")\n",
    "provs=gpd.read_file(\"C:/Users/dani/Desktop/PROYECTOS/MAPAS/provincia/provincia.shp\")\n",
    "covid=pd.read_csv(\"C:/Users/dani/Desktop/PROYECTOS/DATOS ABIERTOS ARGENTINA/Covid19Casos.csv\")"
   ]
  },
  {
   "cell_type": "markdown",
   "metadata": {},
   "source": [
    "Se elige las jurisdicciones a plotear en el mapa y a estudiar en la base, en este caso Salta y Jujuy"
   ]
  },
  {
   "cell_type": "code",
   "execution_count": null,
   "metadata": {},
   "outputs": [],
   "source": [
    "a_mapa=['Salta','Jujuy']\n",
    "mapa=provs.loc[provs['nam'].isin(a_mapa)]\n",
    "noa=covid.loc[covid['residencia_provincia_nombre'].isin(a_mapa)]"
   ]
  },
  {
   "cell_type": "code",
   "execution_count": null,
   "metadata": {},
   "outputs": [],
   "source": [
    "mapa.plot()"
   ]
  },
  {
   "cell_type": "markdown",
   "metadata": {},
   "source": [
    "intersección entre el mapa provincial y de departamentos"
   ]
  },
  {
   "cell_type": "code",
   "execution_count": null,
   "metadata": {},
   "outputs": [],
   "source": [
    "mapa=gpd.overlay(mapa,dptos,how='intersection')"
   ]
  },
  {
   "cell_type": "markdown",
   "metadata": {},
   "source": [
    "eliminamos las filas con los departamentos fantasmas del ign"
   ]
  },
  {
   "cell_type": "code",
   "execution_count": null,
   "metadata": {},
   "outputs": [],
   "source": [
    "no=['Copo', 'Matacos']\n",
    "mapa=mapa[~mapa.nam_2.isin(no)]\n",
    "#duplicado de gral güemes\n",
    "mapa = mapa[mapa.gid_2 != 20]"
   ]
  },
  {
   "cell_type": "code",
   "execution_count": null,
   "metadata": {},
   "outputs": [],
   "source": [
    "mapa.plot()"
   ]
  },
  {
   "cell_type": "markdown",
   "metadata": {},
   "source": [
    "eliminamos las columnas que no nos sirven de mapas"
   ]
  },
  {
   "cell_type": "code",
   "execution_count": null,
   "metadata": {},
   "outputs": [],
   "source": [
    "mapa.drop(['gid_1', 'entidad', 'objeto_1', 'gna_1','fna_1','in1_1', 'fdc_1', 'sag_1',\n",
    "           'gid_2', 'objeto_2', 'gna_2','fna_2', 'fdc_2', 'sag_2'],axis=1, inplace=True)"
   ]
  },
  {
   "cell_type": "code",
   "execution_count": null,
   "metadata": {},
   "outputs": [],
   "source": [
    "mapa.head()"
   ]
  },
  {
   "cell_type": "markdown",
   "metadata": {},
   "source": [
    "Usamos el módulo datetime para cambiar la string con la fecha de casos a un dato de tiempo y creamos la columna semana que nos dirá la semana del año correspondiente a cada dato"
   ]
  },
  {
   "cell_type": "code",
   "execution_count": null,
   "metadata": {},
   "outputs": [],
   "source": [
    "pd.options.mode.chained_assignment = None\n",
    "noa['fecha_diagnostico'] =  pd.to_datetime(noa['fecha_diagnostico'], format='%Y-%m-%d')"
   ]
  },
  {
   "cell_type": "code",
   "execution_count": null,
   "metadata": {},
   "outputs": [],
   "source": [
    "noa['semana']=noa['fecha_diagnostico'].dt.isocalendar().week \n",
    "noa['semana'] = noa['semana'].astype('Int64')"
   ]
  },
  {
   "cell_type": "markdown",
   "metadata": {},
   "source": [
    "para poder hacer un join de datasets usando como key el nombre del departamento hay que hacer algunos cambios, en este caso en el nombre del departamento San Martín"
   ]
  },
  {
   "cell_type": "code",
   "execution_count": null,
   "metadata": {},
   "outputs": [],
   "source": [
    "mapa['nam_2'].replace('General José de San Martín', 'San Martín', inplace=True)"
   ]
  },
  {
   "cell_type": "markdown",
   "metadata": {},
   "source": [
    "En esta base están casos confirmados y descartados asi que deben seleccionarse las categorías deseadas"
   ]
  },
  {
   "cell_type": "code",
   "execution_count": null,
   "metadata": {
    "scrolled": true
   },
   "outputs": [],
   "source": [
    "noa['clasificacion'].unique()"
   ]
  },
  {
   "cell_type": "code",
   "execution_count": null,
   "metadata": {},
   "outputs": [],
   "source": [
    "conf_lista=['Caso confirmado por laboratorio - No Activo por criterio de laboratorio','Caso confirmado - No activo (por tiempo de evolución)',\n",
    "    'Caso confirmado por laboratorio - Activo Internado','Caso confirmado - Fallecido', 'Caso confirmado - Activo']\n",
    "\n",
    "confirmados=noa.loc[noa['clasificacion'].isin(conf_lista)]\n"
   ]
  },
  {
   "cell_type": "code",
   "execution_count": null,
   "metadata": {},
   "outputs": [],
   "source": [
    "noa['residencia_departamento_nombre']=noa['residencia_departamento_nombre'].replace('Grl. José de San Martín', 'San Martín')\n",
    "noa['residencia_departamento_nombre']=noa['residencia_departamento_nombre'].replace('SIN ESPECIFICAR', np.NaN)\n",
    "noa['residencia_departamento_nombre']=noa['residencia_departamento_nombre'].dropna()"
   ]
  },
  {
   "cell_type": "markdown",
   "metadata": {},
   "source": [
    "realizamos un group by y una tabla pivot para obtener los casos por semana y dpto"
   ]
  },
  {
   "cell_type": "code",
   "execution_count": null,
   "metadata": {},
   "outputs": [],
   "source": [
    "dptos_semana=confirmados.groupby(['residencia_departamento_nombre', 'semana']).size().reset_index(name='casos').pivot(columns='semana', index='residencia_departamento_nombre', values='casos').fillna(0)"
   ]
  },
  {
   "cell_type": "markdown",
   "metadata": {},
   "source": [
    "a este nuevo dataframe le debemos agregar como columnas a las semanas que no han tenido ningún caso primero y una vez hecho esto con todas las columnas restantes asignarles el numero de fecha a la que corresponde cada semana"
   ]
  },
  {
   "cell_type": "code",
   "execution_count": null,
   "metadata": {},
   "outputs": [],
   "source": [
    "#se crea lista con nombre de columnas\n",
    "listin=dptos_semana.columns.tolist()\n",
    "\n",
    "#crear lista con el range min max de la primera, los numeros debe\n",
    "listin2=[*range(int(min(listin)),int(max(listin)+1))]\n",
    "\n",
    "#identificar los valores unicos entre listas, estos serán las colu,mnas que deseamos agregar rellenas de 0\n",
    "nuevas_cols=list((set(listin) | set(listin2)) - (set(listin) & set(listin2)))\n",
    "\n",
    "#creamos las columnas en los dataframes, van rellenas con ceros\n",
    "for col in nuevas_cols:\n",
    "    dptos_semana[col] = 0\n",
    "#ordenamos las columnas por nombre\n",
    "dptos_semana = dptos_semana.reindex(sorted(dptos_semana.columns), axis=1)\n",
    "\n",
    "\n",
    "#renombramos las columnas usando el modulo datetime que nos de la fecha de los lunes de cada semana\n",
    "\n",
    "nsem=(max(dptos_semana.columns))\n",
    "today = dt.date.today()\n",
    "for i in range(max(dptos_semana.columns)+1):\n",
    "    l=i-nsem\n",
    "    name= str(today + dt.timedelta(days=-today.weekday(), weeks=l))\n",
    "    dptos_semana = dptos_semana.rename(columns={i:name})\n"
   ]
  },
  {
   "cell_type": "code",
   "execution_count": null,
   "metadata": {},
   "outputs": [],
   "source": [
    "dptos_semana.columns"
   ]
  },
  {
   "cell_type": "markdown",
   "metadata": {},
   "source": [
    "Ahora podemos unir la tabla pivot generada con el dataframe de geopandas y camnbiamos los nan por 0 para poder graficar correctamente los departamentos sin casos"
   ]
  },
  {
   "cell_type": "code",
   "execution_count": null,
   "metadata": {},
   "outputs": [],
   "source": [
    "semanal = mapa.merge(dptos_semana, left_on='nam_2', right_on='residencia_departamento_nombre', how='left')"
   ]
  },
  {
   "cell_type": "code",
   "execution_count": null,
   "metadata": {},
   "outputs": [],
   "source": [
    "semanal=semanal.fillna(0)"
   ]
  },
  {
   "cell_type": "markdown",
   "metadata": {},
   "source": [
    "En este caso en particular decidí fijar los bins que yo deseaba para una mejor comparación ya que mapclassify los va cambiando según la estructura de datos, pero puede hacerse de otra forma. Para otras opciones:\n",
    "https://geopandas.org/gallery/plotting_with_geoplot.html"
   ]
  },
  {
   "cell_type": "code",
   "execution_count": null,
   "metadata": {},
   "outputs": [],
   "source": [
    "co=semanal.iloc[:,4:].columns\n",
    "cut_labels_6 = ['sin casos','1 a9', '10 a 49', '50 a 99', '100 a 199', '200 a 399', '400 a 800']\n",
    "cut_bins = [0,1, 10, 50, 100, 200,400,800]\n",
    "\n",
    "semanal[co] =semanal[co].apply(pd.cut, bins=cut_bins, labels=cut_labels_6, right=False)\n",
    "#semanal.iloc[:,4:]=semanal.iloc[:,4:].astype(int)"
   ]
  },
  {
   "cell_type": "markdown",
   "metadata": {},
   "source": [
    "creamos el plot y hacemos un loop por las columnas con los datos semanales"
   ]
  },
  {
   "cell_type": "code",
   "execution_count": null,
   "metadata": {},
   "outputs": [],
   "source": [
    "path='C:/Users/dani/Desktop/PROYECTOS/source_images/'\n",
    "fig = plt.subplots()\n",
    "i=0\n",
    "for col in semanal.columns[4:]:    \n",
    "    fig, ax = plt.subplots(1, figsize=(15,10))\n",
    "    semanal.plot(categorical=True, ax=ax,column=col,cmap='OrRd',legend=True,  linewidth=1,legend_kwds={'loc':3},\n",
    "             edgecolor='black')    \n",
    "    title_obj = plt.title(str(col) + '\\nCasos semanales: '+ str(round(sum(dptos_semana.iloc[:,i])))) \n",
    "    plt.setp(title_obj, color='black', fontsize=20 )\n",
    "    plt.savefig(fname=path+col+\".png\",dpi=100,bbox_inches='tight' )\n",
    "    #closefig sirve para no mostrar la imagen en el notebook ya que en loops grandes aparece un warning\n",
    "    #de que hay muchas pestañas abiertas, puede comentarse esta linea para ver los mapas\n",
    "    plt.close(fig)\n",
    "    i+=1\n"
   ]
  },
  {
   "cell_type": "markdown",
   "metadata": {},
   "source": [
    "importamos imageio para generar el gif"
   ]
  },
  {
   "cell_type": "code",
   "execution_count": null,
   "metadata": {},
   "outputs": [],
   "source": [
    "import imageio"
   ]
  },
  {
   "cell_type": "markdown",
   "metadata": {},
   "source": [
    "accedemos a las imagenes para el gif"
   ]
  },
  {
   "cell_type": "code",
   "execution_count": null,
   "metadata": {},
   "outputs": [],
   "source": [
    "from pathlib import Path\n",
    "image_path = Path(\"C:/Users/dani/Desktop/PROYECTOS/source_images\")\n",
    "images = list(image_path.glob('*.png'))\n",
    "image_list = []\n",
    "for file_name in images:\n",
    "    image_list.append(imageio.imread(file_name))"
   ]
  },
  {
   "cell_type": "markdown",
   "metadata": {},
   "source": [
    "lo generamos pasando un path a donde deseemos que se guarde"
   ]
  },
  {
   "cell_type": "code",
   "execution_count": null,
   "metadata": {},
   "outputs": [],
   "source": [
    "path=\"C:/Users/dani/Desktop/PROYECTOS/source_images\""
   ]
  },
  {
   "cell_type": "code",
   "execution_count": null,
   "metadata": {},
   "outputs": [],
   "source": [
    "imageio.mimwrite(path+'Salta_covid_semanal.gif', image_list, fps=1.5)"
   ]
  },
  {
   "cell_type": "code",
   "execution_count": null,
   "metadata": {},
   "outputs": [],
   "source": []
  }
 ],
 "metadata": {
  "kernelspec": {
   "display_name": "Python 3",
   "language": "python",
   "name": "python3"
  },
  "language_info": {
   "codemirror_mode": {
    "name": "ipython",
    "version": 3
   },
   "file_extension": ".py",
   "mimetype": "text/x-python",
   "name": "python",
   "nbconvert_exporter": "python",
   "pygments_lexer": "ipython3",
   "version": "3.7.8"
  }
 },
 "nbformat": 4,
 "nbformat_minor": 4
}
